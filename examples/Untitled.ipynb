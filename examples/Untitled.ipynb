{
 "cells": [
  {
   "cell_type": "code",
   "execution_count": 1,
   "metadata": {},
   "outputs": [
    {
     "name": "stdout",
     "output_type": "stream",
     "text": [
      "Collecting https://github.com/Vikash-Kothary/tinder-api-python/archive/v0.0.0.zip\n",
      "  Downloading https://github.com/Vikash-Kothary/tinder-api-python/archive/v0.0.0.zip\n",
      "\u001b[K     | 358kB 69.8MB/s\n",
      "Requirement already satisfied (use --upgrade to upgrade): Tinder-API==0.0.0 from https://github.com/Vikash-Kothary/tinder-api-python/archive/v0.0.0.zip in /home/tejan/Programming/python/disruption-app-python/venv/lib/python3.6/site-packages\n",
      "Requirement already satisfied: requests==2.20.0 in /home/tejan/Programming/python/disruption-app-python/venv/lib/python3.6/site-packages (from Tinder-API==0.0.0) (2.20.0)\n",
      "Requirement already satisfied: robobrowser==0.5.3 in /home/tejan/Programming/python/disruption-app-python/venv/lib/python3.6/site-packages (from Tinder-API==0.0.0) (0.5.3)\n",
      "Requirement already satisfied: lxml==4.2.5 in /home/tejan/Programming/python/disruption-app-python/venv/lib/python3.6/site-packages (from Tinder-API==0.0.0) (4.2.5)\n",
      "Requirement already satisfied: idna<2.8,>=2.5 in /home/tejan/Programming/python/disruption-app-python/venv/lib/python3.6/site-packages (from requests==2.20.0->Tinder-API==0.0.0) (2.7)\n",
      "Requirement already satisfied: certifi>=2017.4.17 in /home/tejan/Programming/python/disruption-app-python/venv/lib/python3.6/site-packages (from requests==2.20.0->Tinder-API==0.0.0) (2018.10.15)\n",
      "Requirement already satisfied: chardet<3.1.0,>=3.0.2 in /home/tejan/Programming/python/disruption-app-python/venv/lib/python3.6/site-packages (from requests==2.20.0->Tinder-API==0.0.0) (3.0.4)\n",
      "Requirement already satisfied: urllib3<1.25,>=1.21.1 in /home/tejan/Programming/python/disruption-app-python/venv/lib/python3.6/site-packages (from requests==2.20.0->Tinder-API==0.0.0) (1.24.1)\n",
      "Requirement already satisfied: beautifulsoup4>=4.3.2 in /home/tejan/Programming/python/disruption-app-python/venv/lib/python3.6/site-packages (from robobrowser==0.5.3->Tinder-API==0.0.0) (4.6.3)\n",
      "Requirement already satisfied: six>=1.9.0 in /home/tejan/Programming/python/disruption-app-python/venv/lib/python3.6/site-packages (from robobrowser==0.5.3->Tinder-API==0.0.0) (1.11.0)\n",
      "Requirement already satisfied: Werkzeug>=0.10.4 in /home/tejan/Programming/python/disruption-app-python/venv/lib/python3.6/site-packages (from robobrowser==0.5.3->Tinder-API==0.0.0) (0.14.1)\n"
     ]
    }
   ],
   "source": [
    "!pip3 install https://github.com/Vikash-Kothary/tinder-api-python/archive/v0.0.0.zip"
   ]
  },
  {
   "cell_type": "code",
   "execution_count": 3,
   "metadata": {},
   "outputs": [],
   "source": [
    "from datetime import date\n",
    "from IPython.display import Image, display\n",
    "\n",
    "import tinder_api"
   ]
  },
  {
   "cell_type": "code",
   "execution_count": 4,
   "metadata": {},
   "outputs": [],
   "source": [
    "def calculate_age(birthday_string):\n",
    "    '''\n",
    "    Converts from '1997-03-25T22:49:41.151Z' to an integer (age)\n",
    "    '''\n",
    "    birthyear = int(birthday_string[:4])\n",
    "    birthmonth = int(birthday_string[5:7])\n",
    "    birthday = int(birthday_string[8:10])\n",
    "    today = date.today()\n",
    "    return today.year - birthyear - ((today.month, today.day) < (birthmonth, birthday))"
   ]
  },
  {
   "cell_type": "code",
   "execution_count": 12,
   "metadata": {},
   "outputs": [],
   "source": [
    "username = 'tej780@hotmail.co.uk'\n",
    "password = ''"
   ]
  },
  {
   "cell_type": "code",
   "execution_count": 13,
   "metadata": {},
   "outputs": [
    {
     "ename": "AuthenticationError",
     "evalue": "Access token could not be retrieved. Check your username and password:400 Bad Request: The browser (or proxy) sent a request that this server could not understand.",
     "output_type": "error",
     "traceback": [
      "\u001b[0;31m---------------------------------------------------------------------------\u001b[0m",
      "\u001b[0;31mBadRequestKeyError\u001b[0m                        Traceback (most recent call last)",
      "\u001b[0;32m~/Programming/python/disruption-app-python/venv/lib/python3.6/site-packages/tinder_api/utils.py\u001b[0m in \u001b[0;36mget_fb_access_token\u001b[0;34m(email, password)\u001b[0m\n\u001b[1;32m     39\u001b[0m         \u001b[0;32mtry\u001b[0m\u001b[0;34m:\u001b[0m\u001b[0;34m\u001b[0m\u001b[0m\n\u001b[0;32m---> 40\u001b[0;31m             \u001b[0ms\u001b[0m\u001b[0;34m.\u001b[0m\u001b[0msubmit_form\u001b[0m\u001b[0;34m(\u001b[0m\u001b[0mf\u001b[0m\u001b[0;34m,\u001b[0m \u001b[0msubmit\u001b[0m\u001b[0;34m=\u001b[0m\u001b[0mf\u001b[0m\u001b[0;34m.\u001b[0m\u001b[0msubmit_fields\u001b[0m\u001b[0;34m[\u001b[0m\u001b[0;34m'__CONFIRM__'\u001b[0m\u001b[0;34m]\u001b[0m\u001b[0;34m)\u001b[0m\u001b[0;34m\u001b[0m\u001b[0m\n\u001b[0m\u001b[1;32m     41\u001b[0m             access_token = re.search(\n",
      "\u001b[0;32m~/Programming/python/disruption-app-python/venv/lib/python3.6/site-packages/werkzeug/datastructures.py\u001b[0m in \u001b[0;36m__getitem__\u001b[0;34m(self, key)\u001b[0m\n\u001b[1;32m    783\u001b[0m             \u001b[0;32mreturn\u001b[0m \u001b[0mdict\u001b[0m\u001b[0;34m.\u001b[0m\u001b[0m__getitem__\u001b[0m\u001b[0;34m(\u001b[0m\u001b[0mself\u001b[0m\u001b[0;34m,\u001b[0m \u001b[0mkey\u001b[0m\u001b[0;34m)\u001b[0m\u001b[0;34m[\u001b[0m\u001b[0;36m0\u001b[0m\u001b[0;34m]\u001b[0m\u001b[0;34m.\u001b[0m\u001b[0mvalue\u001b[0m\u001b[0;34m\u001b[0m\u001b[0m\n\u001b[0;32m--> 784\u001b[0;31m         \u001b[0;32mraise\u001b[0m \u001b[0mexceptions\u001b[0m\u001b[0;34m.\u001b[0m\u001b[0mBadRequestKeyError\u001b[0m\u001b[0;34m(\u001b[0m\u001b[0mkey\u001b[0m\u001b[0;34m)\u001b[0m\u001b[0;34m\u001b[0m\u001b[0m\n\u001b[0m\u001b[1;32m    785\u001b[0m \u001b[0;34m\u001b[0m\u001b[0m\n",
      "\u001b[0;31mBadRequestKeyError\u001b[0m: 400 Bad Request: The browser (or proxy) sent a request that this server could not understand.",
      "\nDuring handling of the above exception, another exception occurred:\n",
      "\u001b[0;31mAuthenticationError\u001b[0m                       Traceback (most recent call last)",
      "\u001b[0;32m<ipython-input-13-5abe8b20e76f>\u001b[0m in \u001b[0;36m<module>\u001b[0;34m\u001b[0m\n\u001b[0;32m----> 1\u001b[0;31m \u001b[0mtinder\u001b[0m \u001b[0;34m=\u001b[0m \u001b[0mtinder_api\u001b[0m\u001b[0;34m.\u001b[0m\u001b[0mClient\u001b[0m\u001b[0;34m(\u001b[0m\u001b[0musername\u001b[0m\u001b[0;34m=\u001b[0m\u001b[0musername\u001b[0m\u001b[0;34m,\u001b[0m \u001b[0mpassword\u001b[0m\u001b[0;34m=\u001b[0m\u001b[0mpassword\u001b[0m\u001b[0;34m)\u001b[0m\u001b[0;34m\u001b[0m\u001b[0m\n\u001b[0m",
      "\u001b[0;32m~/Programming/python/disruption-app-python/venv/lib/python3.6/site-packages/tinder_api/client.py\u001b[0m in \u001b[0;36m__init__\u001b[0;34m(self, username, password)\u001b[0m\n\u001b[1;32m     26\u001b[0m         }\n\u001b[1;32m     27\u001b[0m         \u001b[0;32mif\u001b[0m \u001b[0musername\u001b[0m \u001b[0;34m!=\u001b[0m \u001b[0;32mNone\u001b[0m \u001b[0;32mand\u001b[0m \u001b[0mpassword\u001b[0m \u001b[0;34m!=\u001b[0m \u001b[0;32mNone\u001b[0m\u001b[0;34m:\u001b[0m\u001b[0;34m\u001b[0m\u001b[0m\n\u001b[0;32m---> 28\u001b[0;31m             \u001b[0mself\u001b[0m\u001b[0;34m.\u001b[0m\u001b[0mlogin\u001b[0m\u001b[0;34m(\u001b[0m\u001b[0musername\u001b[0m\u001b[0;34m,\u001b[0m \u001b[0mpassword\u001b[0m\u001b[0;34m)\u001b[0m\u001b[0;34m\u001b[0m\u001b[0m\n\u001b[0m\u001b[1;32m     29\u001b[0m \u001b[0;34m\u001b[0m\u001b[0m\n\u001b[1;32m     30\u001b[0m     \u001b[0;32mdef\u001b[0m \u001b[0mlogin\u001b[0m\u001b[0;34m(\u001b[0m\u001b[0mself\u001b[0m\u001b[0;34m,\u001b[0m \u001b[0musername\u001b[0m\u001b[0;34m,\u001b[0m \u001b[0mpassword\u001b[0m\u001b[0;34m)\u001b[0m\u001b[0;34m:\u001b[0m\u001b[0;34m\u001b[0m\u001b[0m\n",
      "\u001b[0;32m~/Programming/python/disruption-app-python/venv/lib/python3.6/site-packages/tinder_api/client.py\u001b[0m in \u001b[0;36mlogin\u001b[0;34m(self, username, password)\u001b[0m\n\u001b[1;32m     42\u001b[0m                 \u001b[0;31m# Set facebook token and id\u001b[0m\u001b[0;34m\u001b[0m\u001b[0;34m\u001b[0m\u001b[0m\n\u001b[1;32m     43\u001b[0m                 Config.FB_TOKEN, Config.FB_ID = FBUtils.get_facebook_credentials(\n\u001b[0;32m---> 44\u001b[0;31m                     Config.FB_USERNAME, Config.FB_PASSWORD)\n\u001b[0m\u001b[1;32m     45\u001b[0m             \u001b[0;31m# Set tinder auth token\u001b[0m\u001b[0;34m\u001b[0m\u001b[0;34m\u001b[0m\u001b[0m\n\u001b[1;32m     46\u001b[0m             Config.TINDER_AUTH_TOKEN = self.get_auth_token(\n",
      "\u001b[0;32m~/Programming/python/disruption-app-python/venv/lib/python3.6/site-packages/tinder_api/utils.py\u001b[0m in \u001b[0;36mget_facebook_credentials\u001b[0;34m(username, password)\u001b[0m\n\u001b[1;32m     19\u001b[0m         \"\"\"\n\u001b[1;32m     20\u001b[0m \u001b[0;34m\u001b[0m\u001b[0m\n\u001b[0;32m---> 21\u001b[0;31m         \u001b[0mfb_access_token\u001b[0m \u001b[0;34m=\u001b[0m \u001b[0mFBUtils\u001b[0m\u001b[0;34m.\u001b[0m\u001b[0mget_fb_access_token\u001b[0m\u001b[0;34m(\u001b[0m\u001b[0musername\u001b[0m\u001b[0;34m,\u001b[0m \u001b[0mpassword\u001b[0m\u001b[0;34m)\u001b[0m\u001b[0;34m\u001b[0m\u001b[0m\n\u001b[0m\u001b[1;32m     22\u001b[0m         \u001b[0;32mif\u001b[0m \u001b[0mfb_access_token\u001b[0m \u001b[0;34m==\u001b[0m \u001b[0;32mNone\u001b[0m\u001b[0;34m:\u001b[0m\u001b[0;34m\u001b[0m\u001b[0m\n\u001b[1;32m     23\u001b[0m             \u001b[0;32mraise\u001b[0m \u001b[0mAuthenticationError\u001b[0m\u001b[0;34m(\u001b[0m\u001b[0;34m'No FB Access Token'\u001b[0m\u001b[0;34m)\u001b[0m\u001b[0;34m\u001b[0m\u001b[0m\n",
      "\u001b[0;32m~/Programming/python/disruption-app-python/venv/lib/python3.6/site-packages/tinder_api/utils.py\u001b[0m in \u001b[0;36mget_fb_access_token\u001b[0;34m(email, password)\u001b[0m\n\u001b[1;32m     43\u001b[0m         \u001b[0;32mexcept\u001b[0m \u001b[0mException\u001b[0m \u001b[0;32mas\u001b[0m \u001b[0me\u001b[0m\u001b[0;34m:\u001b[0m\u001b[0;34m\u001b[0m\u001b[0m\n\u001b[1;32m     44\u001b[0m             raise AuthenticationError(\n\u001b[0;32m---> 45\u001b[0;31m                 \"Access token could not be retrieved. Check your username and password:\" + str(e))\n\u001b[0m\u001b[1;32m     46\u001b[0m         \u001b[0;32mreturn\u001b[0m \u001b[0maccess_token\u001b[0m\u001b[0;34m\u001b[0m\u001b[0m\n\u001b[1;32m     47\u001b[0m \u001b[0;34m\u001b[0m\u001b[0m\n",
      "\u001b[0;31mAuthenticationError\u001b[0m: Access token could not be retrieved. Check your username and password:400 Bad Request: The browser (or proxy) sent a request that this server could not understand."
     ]
    }
   ],
   "source": [
    "tinder = tinder_api.Client(username=username, password=password)"
   ]
  },
  {
   "cell_type": "code",
   "execution_count": null,
   "metadata": {},
   "outputs": [],
   "source": []
  },
  {
   "cell_type": "code",
   "execution_count": 7,
   "metadata": {},
   "outputs": [
    {
     "ename": "NameError",
     "evalue": "name 'tinder' is not defined",
     "output_type": "error",
     "traceback": [
      "\u001b[0;31m---------------------------------------------------------------------------\u001b[0m",
      "\u001b[0;31mNameError\u001b[0m                                 Traceback (most recent call last)",
      "\u001b[0;32m<ipython-input-7-5f6b8ab6183d>\u001b[0m in \u001b[0;36m<module>\u001b[0;34m\u001b[0m\n\u001b[0;32m----> 1\u001b[0;31m \u001b[0mrecommendations\u001b[0m \u001b[0;34m=\u001b[0m \u001b[0mtinder\u001b[0m\u001b[0;34m.\u001b[0m\u001b[0mget_recs\u001b[0m\u001b[0;34m(\u001b[0m\u001b[0;34m)\u001b[0m\u001b[0;34m.\u001b[0m\u001b[0mget\u001b[0m\u001b[0;34m(\u001b[0m\u001b[0;34m'data'\u001b[0m\u001b[0;34m)\u001b[0m\u001b[0;34m.\u001b[0m\u001b[0mget\u001b[0m\u001b[0;34m(\u001b[0m\u001b[0;34m'results'\u001b[0m\u001b[0;34m)\u001b[0m\u001b[0;34m\u001b[0m\u001b[0m\n\u001b[0m",
      "\u001b[0;31mNameError\u001b[0m: name 'tinder' is not defined"
     ]
    }
   ],
   "source": [
    "recommendations = tinder.get_recs().get('data').get('results')"
   ]
  },
  {
   "cell_type": "code",
   "execution_count": null,
   "metadata": {},
   "outputs": [],
   "source": [
    "user_id = '5bd900d5d29f540b0512b67d'\n",
    "user = tinder.get_person(user_id).get('results')"
   ]
  }
 ],
 "metadata": {
  "kernelspec": {
   "display_name": "Python 3",
   "language": "python",
   "name": "python3"
  },
  "language_info": {
   "codemirror_mode": {
    "name": "ipython",
    "version": 3
   },
   "file_extension": ".py",
   "mimetype": "text/x-python",
   "name": "python",
   "nbconvert_exporter": "python",
   "pygments_lexer": "ipython3",
   "version": "3.6.6"
  }
 },
 "nbformat": 4,
 "nbformat_minor": 2
}
