{
 "cells": [
  {
   "cell_type": "code",
   "execution_count": 1,
   "metadata": {},
   "outputs": [
    {
     "name": "stdout",
     "output_type": "stream",
     "text": [
      "Collecting https://github.com/Vikash-Kothary/tinder-api-python/archive/v0.0.0.zip\n",
      "  Downloading https://github.com/Vikash-Kothary/tinder-api-python/archive/v0.0.0.zip\n",
      "\u001b[K     - 337kB 196.7MB/s\n",
      "Requirement already satisfied (use --upgrade to upgrade): Tinder-API==0.0.0 from https://github.com/Vikash-Kothary/tinder-api-python/archive/v0.0.0.zip in /home/vikash/Programming/python/disruption-app-python/.venv/lib/python3.6/site-packages\n",
      "Requirement already satisfied: requests==2.20.0 in /home/vikash/Programming/python/disruption-app-python/.venv/lib/python3.6/site-packages (from Tinder-API==0.0.0) (2.20.0)\n",
      "Requirement already satisfied: robobrowser==0.5.3 in /home/vikash/Programming/python/disruption-app-python/.venv/lib/python3.6/site-packages (from Tinder-API==0.0.0) (0.5.3)\n",
      "Requirement already satisfied: lxml==4.2.5 in /home/vikash/Programming/python/disruption-app-python/.venv/lib/python3.6/site-packages (from Tinder-API==0.0.0) (4.2.5)\n",
      "Requirement already satisfied: idna<2.8,>=2.5 in /home/vikash/Programming/python/disruption-app-python/.venv/lib/python3.6/site-packages (from requests==2.20.0->Tinder-API==0.0.0) (2.7)\n",
      "Requirement already satisfied: chardet<3.1.0,>=3.0.2 in /home/vikash/Programming/python/disruption-app-python/.venv/lib/python3.6/site-packages (from requests==2.20.0->Tinder-API==0.0.0) (3.0.4)\n",
      "Requirement already satisfied: certifi>=2017.4.17 in /home/vikash/Programming/python/disruption-app-python/.venv/lib/python3.6/site-packages (from requests==2.20.0->Tinder-API==0.0.0) (2018.10.15)\n",
      "Requirement already satisfied: urllib3<1.25,>=1.21.1 in /home/vikash/Programming/python/disruption-app-python/.venv/lib/python3.6/site-packages (from requests==2.20.0->Tinder-API==0.0.0) (1.24.1)\n",
      "Requirement already satisfied: beautifulsoup4>=4.3.2 in /home/vikash/Programming/python/disruption-app-python/.venv/lib/python3.6/site-packages (from robobrowser==0.5.3->Tinder-API==0.0.0) (4.6.3)\n",
      "Requirement already satisfied: six>=1.9.0 in /home/vikash/Programming/python/disruption-app-python/.venv/lib/python3.6/site-packages (from robobrowser==0.5.3->Tinder-API==0.0.0) (1.11.0)\n",
      "Requirement already satisfied: Werkzeug>=0.10.4 in /home/vikash/Programming/python/disruption-app-python/.venv/lib/python3.6/site-packages (from robobrowser==0.5.3->Tinder-API==0.0.0) (0.14.1)\n"
     ]
    }
   ],
   "source": [
    "!pip3 install https://github.com/Vikash-Kothary/tinder-api-python/archive/v0.0.0.zip"
   ]
  },
  {
   "cell_type": "code",
   "execution_count": 2,
   "metadata": {},
   "outputs": [],
   "source": [
    "from datetime import date\n",
    "from IPython.display import Image, display\n",
    "import tinder_api\n",
    "import root_path"
   ]
  },
  {
   "cell_type": "code",
   "execution_count": 6,
   "metadata": {},
   "outputs": [
    {
     "name": "stdout",
     "output_type": "stream",
     "text": [
      "/home/vikash/Programming/python/disruption-app-python/disruption_app\n"
     ]
    }
   ],
   "source": [
    "cd disruption_app"
   ]
  },
  {
   "cell_type": "code",
   "execution_count": 7,
   "metadata": {},
   "outputs": [
    {
     "name": "stderr",
     "output_type": "stream",
     "text": [
      "/home/vikash/Programming/python/disruption-app-python/.venv/lib/python3.6/site-packages/flask_sqlalchemy/__init__.py:794: FSADeprecationWarning: SQLALCHEMY_TRACK_MODIFICATIONS adds significant overhead and will be disabled by default in the future.  Set it to True or False to suppress this warning.\n",
      "  'SQLALCHEMY_TRACK_MODIFICATIONS adds significant overhead and '\n"
     ]
    }
   ],
   "source": [
    "import clean\n",
    "import extract\n",
    "import models"
   ]
  },
  {
   "cell_type": "code",
   "execution_count": 8,
   "metadata": {},
   "outputs": [],
   "source": [
    "def calculate_age(birthday_string):\n",
    "    '''\n",
    "    Converts from '1997-03-25T22:49:41.151Z' to an integer (age)\n",
    "    '''\n",
    "    birthyear = int(birthday_string[:4])\n",
    "    birthmonth = int(birthday_string[5:7])\n",
    "    birthday = int(birthday_string[8:10])\n",
    "    today = date.today()\n",
    "    return today.year - birthyear - ((today.month, today.day) < (birthmonth, birthday))"
   ]
  },
  {
   "cell_type": "code",
   "execution_count": 9,
   "metadata": {},
   "outputs": [],
   "source": [
    "username = 'tej780@hotmail.co.uk'\n",
    "password = ''"
   ]
  },
  {
   "cell_type": "code",
   "execution_count": 5,
   "metadata": {},
   "outputs": [],
   "source": [
    "tinder = tinder_api.Client(username=username, password=password)"
   ]
  },
  {
   "cell_type": "code",
   "execution_count": 10,
   "metadata": {},
   "outputs": [],
   "source": [
    "recommendations = models.get_mock_data()"
   ]
  },
  {
   "cell_type": "code",
   "execution_count": 45,
   "metadata": {},
   "outputs": [
    {
     "ename": "KeyError",
     "evalue": "'birth_date'",
     "output_type": "error",
     "traceback": [
      "\u001b[0;31m---------------------------------------------------------------------------\u001b[0m",
      "\u001b[0;31mKeyError\u001b[0m                                  Traceback (most recent call last)",
      "\u001b[0;32m<ipython-input-45-be36c2653372>\u001b[0m in \u001b[0;36m<module>\u001b[0;34m\u001b[0m\n\u001b[1;32m      1\u001b[0m \u001b[0;32mfor\u001b[0m \u001b[0mi\u001b[0m \u001b[0;32min\u001b[0m \u001b[0mrange\u001b[0m\u001b[0;34m(\u001b[0m\u001b[0mlen\u001b[0m\u001b[0;34m(\u001b[0m\u001b[0mrecommendations\u001b[0m\u001b[0;34m)\u001b[0m\u001b[0;34m)\u001b[0m\u001b[0;34m:\u001b[0m\u001b[0;34m\u001b[0m\u001b[0;34m\u001b[0m\u001b[0m\n\u001b[0;32m----> 2\u001b[0;31m         \u001b[0mclean_recs\u001b[0m \u001b[0;34m=\u001b[0m \u001b[0mclean\u001b[0m\u001b[0;34m.\u001b[0m\u001b[0mClean\u001b[0m\u001b[0;34m(\u001b[0m\u001b[0mrecommendations\u001b[0m\u001b[0;34m[\u001b[0m\u001b[0mi\u001b[0m\u001b[0;34m]\u001b[0m\u001b[0;34m[\u001b[0m\u001b[0;34m'user'\u001b[0m\u001b[0;34m]\u001b[0m\u001b[0;34m)\u001b[0m\u001b[0;34m\u001b[0m\u001b[0;34m\u001b[0m\u001b[0m\n\u001b[0m\u001b[1;32m      3\u001b[0m         \u001b[0mdata\u001b[0m \u001b[0;34m=\u001b[0m \u001b[0mextract\u001b[0m\u001b[0;34m.\u001b[0m\u001b[0mExtract\u001b[0m\u001b[0;34m(\u001b[0m\u001b[0mclean_recs\u001b[0m\u001b[0;34m)\u001b[0m\u001b[0;34m\u001b[0m\u001b[0;34m\u001b[0m\u001b[0m\n\u001b[1;32m      4\u001b[0m         \u001b[0mmodels\u001b[0m\u001b[0;34m.\u001b[0m\u001b[0mprofile_save_util\u001b[0m\u001b[0;34m(\u001b[0m\u001b[0mdata\u001b[0m\u001b[0;34m)\u001b[0m\u001b[0;34m\u001b[0m\u001b[0;34m\u001b[0m\u001b[0m\n\u001b[1;32m      5\u001b[0m         \u001b[0;32mbreak\u001b[0m\u001b[0;34m\u001b[0m\u001b[0;34m\u001b[0m\u001b[0m\n",
      "\u001b[0;32m~/Programming/python/disruption-app-python/disruption_app/clean.py\u001b[0m in \u001b[0;36mClean\u001b[0;34m(json)\u001b[0m\n\u001b[1;32m     19\u001b[0m         \u001b[0mtoday\u001b[0m \u001b[0;34m=\u001b[0m \u001b[0mdate\u001b[0m\u001b[0;34m.\u001b[0m\u001b[0mtoday\u001b[0m\u001b[0;34m(\u001b[0m\u001b[0;34m)\u001b[0m\u001b[0;34m\u001b[0m\u001b[0;34m\u001b[0m\u001b[0m\n\u001b[1;32m     20\u001b[0m         \u001b[0;32mreturn\u001b[0m \u001b[0mtoday\u001b[0m\u001b[0;34m.\u001b[0m\u001b[0myear\u001b[0m \u001b[0;34m-\u001b[0m \u001b[0mbirthyear\u001b[0m \u001b[0;34m-\u001b[0m \u001b[0;34m(\u001b[0m\u001b[0;34m(\u001b[0m\u001b[0mtoday\u001b[0m\u001b[0;34m.\u001b[0m\u001b[0mmonth\u001b[0m\u001b[0;34m,\u001b[0m \u001b[0mtoday\u001b[0m\u001b[0;34m.\u001b[0m\u001b[0mday\u001b[0m\u001b[0;34m)\u001b[0m \u001b[0;34m<\u001b[0m \u001b[0;34m(\u001b[0m\u001b[0mbirthmonth\u001b[0m\u001b[0;34m,\u001b[0m \u001b[0mbirthday\u001b[0m\u001b[0;34m)\u001b[0m\u001b[0;34m)\u001b[0m\u001b[0;34m\u001b[0m\u001b[0;34m\u001b[0m\u001b[0m\n\u001b[0;32m---> 21\u001b[0;31m     \u001b[0muser\u001b[0m \u001b[0;34m=\u001b[0m \u001b[0mjson\u001b[0m\u001b[0;34m\u001b[0m\u001b[0;34m\u001b[0m\u001b[0m\n\u001b[0m\u001b[1;32m     22\u001b[0m \u001b[0;34m\u001b[0m\u001b[0m\n\u001b[1;32m     23\u001b[0m     \u001b[0muser\u001b[0m\u001b[0;34m[\u001b[0m\u001b[0;34m'age'\u001b[0m\u001b[0;34m]\u001b[0m \u001b[0;34m=\u001b[0m \u001b[0mcalculate_age\u001b[0m\u001b[0;34m(\u001b[0m\u001b[0muser\u001b[0m\u001b[0;34m.\u001b[0m\u001b[0mget\u001b[0m\u001b[0;34m(\u001b[0m\u001b[0;34m'birth_date'\u001b[0m\u001b[0;34m,\u001b[0m \u001b[0;32mNone\u001b[0m\u001b[0;34m)\u001b[0m\u001b[0;34m)\u001b[0m\u001b[0;34m\u001b[0m\u001b[0;34m\u001b[0m\u001b[0m\n",
      "\u001b[0;31mKeyError\u001b[0m: 'birth_date'"
     ]
    }
   ],
   "source": [
    "for i in range(len(recommendations)):\n",
    "        clean_recs = clean.Clean(recommendations[i]['user'])\n",
    "        data = extract.Extract(clean_recs)\n",
    "        models.profile_save_util(data)"
   ]
  },
  {
   "cell_type": "code",
   "execution_count": null,
   "metadata": {},
   "outputs": [],
   "source": [
    "user_id = '5bd900d5d29f540b0512b67d'\n",
    "user = tinder.get_person(user_id).get('results')"
   ]
  }
 ],
 "metadata": {
  "kernelspec": {
   "display_name": "Python 3",
   "language": "python",
   "name": "python3"
  },
  "language_info": {
   "codemirror_mode": {
    "name": "ipython",
    "version": 3
   },
   "file_extension": ".py",
   "mimetype": "text/x-python",
   "name": "python",
   "nbconvert_exporter": "python",
   "pygments_lexer": "ipython3",
   "version": "3.6.7"
  }
 },
 "nbformat": 4,
 "nbformat_minor": 2
}
